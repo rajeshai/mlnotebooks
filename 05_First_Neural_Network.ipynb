{
 "cells": [
  {
   "cell_type": "raw",
   "metadata": {},
   "source": [
    "---\n",
    "title: 06 First Neural Network - Image Classifier\n",
    "description: Build a minimal image classifier using MNIST\n",
    "---"
   ]
  },
  {
   "cell_type": "markdown",
   "metadata": {},
   "source": [
    "<a href=\"https://colab.research.google.com/drive/1i94k-n97Z5r1KWV9Vly9IiKnYxf3Tfvu?usp=sharing\" target=\"_blank\"><img align=\"left\" alt=\"Colab\" title=\"Open in Colab\" src=\"https://colab.research.google.com/assets/colab-badge.svg\"></a>"
   ]
  },
  {
   "cell_type": "markdown",
   "metadata": {
    "id": "B4QLVt7dOLvR"
   },
   "source": [
    "## First Neural Network: Image Classification \n",
    "\n",
    "Objectives:\n",
    "- Train a minimal image classifier on [MNIST](https://paperswithcode.com/dataset/mnist) using PyTorch\n",
    "- Usese PyTorch and torchvision"
   ]
  },
  {
   "cell_type": "code",
   "execution_count": null,
   "metadata": {
    "id": "GQO-_1VmOKAA"
   },
   "outputs": [],
   "source": [
    "# The usual imports\n",
    "\n",
    "import torch\n",
    "import torch.nn as nn\n",
    "import torchvision\n",
    "import torchvision.transforms as transforms"
   ]
  },
  {
   "cell_type": "code",
   "execution_count": null,
   "metadata": {
    "colab": {
     "base_uri": "https://localhost:8080/",
     "height": 440,
     "referenced_widgets": [
      "1f5bffd15e004f94b4c0c160d9fd8de1",
      "db33884155d845de87219e380dac93e4",
      "f69126416a024d81acba55ed9d55d403",
      "adcb0b32f9d044a7be84399c7c78b0e3",
      "9afc91c828a34f1a9aeeda0ed4ab03f2",
      "7d3f956600f540b99ecb4b34a25406cd",
      "f7a5cf68799f4dd88799c2661023c9cf",
      "b70dd86e5cd346a39d916785e53999f3",
      "10fd4ffeec3b4296accab82cbf669532",
      "b5ce3aa109794b9c8426a2aa6a3db2bb",
      "919a3015ac534f24bd0d429efbd74868",
      "e2c9c5e882014f78808521df5b440fa8",
      "a8e52c852bbc409589950c351dd1ed49",
      "d7c608f697254a309d312b17aa48909e",
      "3837ef6dc033413692d78bee9c886cc7",
      "a87b4fcaebc246b9bb3b9f9e6769c165",
      "2c70b515382e4a78b3d6fcb237f1c1ec",
      "a5e9382e8f7249adaf103f29379eb09a",
      "d953e078e7674e8f82b6942e3903d28c",
      "404e11ae4a0f4c5a9dbd806a71fe86df",
      "a2e9fa143b3c4e418c20b909c0001ede",
      "bf3bd4bd992c4f0f89232bdf1d90e82d",
      "e56e4aec66e246e5a912aeb6e2c02217",
      "82588d321aa746539465eb6678765576",
      "fd74ada4948948e2b5edd7afabd35a2a",
      "c3ce8434db4e40f3ad706c10d2a3d476",
      "907a358a2c0047b980b9b6247ac6a805",
      "39d23aa64be84a3aba5d1f4c50232130",
      "a25da8720eae4b0796f52f492e985109",
      "013b2e36a1e34997bc0fc85efe0d2d03",
      "0cc3973d865d494ea4114aaf8cd0c87b",
      "e22eef5cedc14cf097af701dca4862a8",
      "edb32f5f8ae64662ac5f79cd4c12bc2d",
      "3c9909790988447d80508923c17b0fcb",
      "0fe027d4def3455d8d9f65961e79795e",
      "923f7bcae8d24f6bb87d7f18ca17c943",
      "d12c5cb31ee14b1ca8781fefcf1927e5",
      "538005e3a226493caa1116e5ee0d4083",
      "843bf0d404b0460a99f57a6b7892929a",
      "725dcb166a0847b2bbd297ff134fe584",
      "b781c19fa93645ddb79f988e33abb9c0",
      "d7e49571d5d845eaac58d9af4dcbcba1",
      "1aea37ee14dc40c497266b7a29f06d8e",
      "950ef43921c04627b73414c6d0b11531"
     ]
    },
    "id": "MEfdNU7dORsY",
    "outputId": "d94970ab-6aec-432c-b240-6958711379c5"
   },
   "outputs": [
    {
     "name": "stdout",
     "output_type": "stream",
     "text": [
      "Downloading http://yann.lecun.com/exdb/mnist/train-images-idx3-ubyte.gz\n",
      "Downloading http://yann.lecun.com/exdb/mnist/train-images-idx3-ubyte.gz to ./data/MNIST/raw/train-images-idx3-ubyte.gz\n"
     ]
    },
    {
     "data": {
      "application/vnd.jupyter.widget-view+json": {
       "model_id": "1f5bffd15e004f94b4c0c160d9fd8de1",
       "version_major": 2,
       "version_minor": 0
      },
      "text/plain": [
       "  0%|          | 0/9912422 [00:00<?, ?it/s]"
      ]
     },
     "metadata": {},
     "output_type": "display_data"
    },
    {
     "name": "stdout",
     "output_type": "stream",
     "text": [
      "Extracting ./data/MNIST/raw/train-images-idx3-ubyte.gz to ./data/MNIST/raw\n",
      "\n",
      "Downloading http://yann.lecun.com/exdb/mnist/train-labels-idx1-ubyte.gz\n",
      "Downloading http://yann.lecun.com/exdb/mnist/train-labels-idx1-ubyte.gz to ./data/MNIST/raw/train-labels-idx1-ubyte.gz\n"
     ]
    },
    {
     "data": {
      "application/vnd.jupyter.widget-view+json": {
       "model_id": "e2c9c5e882014f78808521df5b440fa8",
       "version_major": 2,
       "version_minor": 0
      },
      "text/plain": [
       "  0%|          | 0/28881 [00:00<?, ?it/s]"
      ]
     },
     "metadata": {},
     "output_type": "display_data"
    },
    {
     "name": "stdout",
     "output_type": "stream",
     "text": [
      "Extracting ./data/MNIST/raw/train-labels-idx1-ubyte.gz to ./data/MNIST/raw\n",
      "\n",
      "Downloading http://yann.lecun.com/exdb/mnist/t10k-images-idx3-ubyte.gz\n",
      "Downloading http://yann.lecun.com/exdb/mnist/t10k-images-idx3-ubyte.gz to ./data/MNIST/raw/t10k-images-idx3-ubyte.gz\n"
     ]
    },
    {
     "data": {
      "application/vnd.jupyter.widget-view+json": {
       "model_id": "e56e4aec66e246e5a912aeb6e2c02217",
       "version_major": 2,
       "version_minor": 0
      },
      "text/plain": [
       "  0%|          | 0/1648877 [00:00<?, ?it/s]"
      ]
     },
     "metadata": {},
     "output_type": "display_data"
    },
    {
     "name": "stdout",
     "output_type": "stream",
     "text": [
      "Extracting ./data/MNIST/raw/t10k-images-idx3-ubyte.gz to ./data/MNIST/raw\n",
      "\n",
      "Downloading http://yann.lecun.com/exdb/mnist/t10k-labels-idx1-ubyte.gz\n",
      "Downloading http://yann.lecun.com/exdb/mnist/t10k-labels-idx1-ubyte.gz to ./data/MNIST/raw/t10k-labels-idx1-ubyte.gz\n"
     ]
    },
    {
     "data": {
      "application/vnd.jupyter.widget-view+json": {
       "model_id": "3c9909790988447d80508923c17b0fcb",
       "version_major": 2,
       "version_minor": 0
      },
      "text/plain": [
       "  0%|          | 0/4542 [00:00<?, ?it/s]"
      ]
     },
     "metadata": {},
     "output_type": "display_data"
    },
    {
     "name": "stdout",
     "output_type": "stream",
     "text": [
      "Extracting ./data/MNIST/raw/t10k-labels-idx1-ubyte.gz to ./data/MNIST/raw\n",
      "\n"
     ]
    }
   ],
   "source": [
    "# load the data\n",
    "\n",
    "class ReshapeTransform:\n",
    "    def __init__(self, new_size):\n",
    "        self.new_size = new_size\n",
    "\n",
    "    def __call__(self, img):\n",
    "        return torch.reshape(img, self.new_size)\n",
    "\n",
    "transformations = transforms.Compose([\n",
    "                                transforms.ToTensor(),\n",
    "                                transforms.ConvertImageDtype(torch.float32),\n",
    "                                ReshapeTransform((-1,))\n",
    "                                ])\n",
    "\n",
    "trainset = torchvision.datasets.MNIST(root='./data', train=True,\n",
    "                                        download=True, transform=transformations)\n",
    "\n",
    "testset = torchvision.datasets.MNIST(root='./data', train=False,\n",
    "                                       download=True, transform=transformations)"
   ]
  },
  {
   "cell_type": "code",
   "execution_count": null,
   "metadata": {
    "colab": {
     "base_uri": "https://localhost:8080/"
    },
    "id": "3KqEETlaOjzl",
    "outputId": "3cbdaccf-48d9-442a-fe63-f71bc7026a10"
   },
   "outputs": [
    {
     "data": {
      "text/plain": [
       "(torch.Size([60000, 28, 28]), torch.Size([10000, 28, 28]))"
      ]
     },
     "execution_count": 3,
     "metadata": {},
     "output_type": "execute_result"
    }
   ],
   "source": [
    "# check shape of data\n",
    "\n",
    "trainset.data.shape, testset.data.shape"
   ]
  },
  {
   "cell_type": "code",
   "execution_count": null,
   "metadata": {
    "id": "hvv8j6j1OnAG"
   },
   "outputs": [],
   "source": [
    "# data loader\n",
    "\n",
    "BATCH_SIZE = 128\n",
    "train_dataloader = torch.utils.data.DataLoader(trainset, \n",
    "                                               batch_size=BATCH_SIZE,\n",
    "                                               shuffle=True, \n",
    "                                               num_workers=0)\n",
    "\n",
    "test_dataloader = torch.utils.data.DataLoader(testset, \n",
    "                                              batch_size=BATCH_SIZE,\n",
    "                                              shuffle=False, \n",
    "                                              num_workers=0)"
   ]
  },
  {
   "cell_type": "code",
   "execution_count": null,
   "metadata": {
    "id": "M6QNGvdzPEE1"
   },
   "outputs": [],
   "source": [
    "# model\n",
    "\n",
    "model = nn.Sequential(nn.Linear(784, 512), nn.ReLU(), nn.Linear(512, 10))"
   ]
  },
  {
   "cell_type": "code",
   "execution_count": null,
   "metadata": {
    "id": "Z3N2bygHPFnk"
   },
   "outputs": [],
   "source": [
    "# training preparation\n",
    "\n",
    "trainer = torch.optim.RMSprop(model.parameters())\n",
    "loss = nn.CrossEntropyLoss()"
   ]
  },
  {
   "cell_type": "code",
   "execution_count": null,
   "metadata": {
    "id": "QRZq3LkFPHGU"
   },
   "outputs": [],
   "source": [
    "def get_accuracy(output, target, batch_size):\n",
    "    # Obtain accuracy for training round\n",
    "    corrects = (torch.max(output, 1)[1].view(target.size()).data == target.data).sum()\n",
    "    accuracy = 100.0 * corrects/batch_size\n",
    "    return accuracy.item()"
   ]
  },
  {
   "cell_type": "code",
   "execution_count": null,
   "metadata": {
    "colab": {
     "base_uri": "https://localhost:8080/"
    },
    "id": "KC1AnsOYPJvc",
    "outputId": "76d6ad83-766e-4f9b-c437-03e69d5c8486"
   },
   "outputs": [
    {
     "name": "stdout",
     "output_type": "stream",
     "text": [
      "Epoch: 1 | Train loss: 1.0415 | Train Accuracy: 91.9010\n",
      "Epoch: 2 | Train loss: 0.1291 | Train Accuracy: 96.0871\n",
      "Epoch: 3 | Train loss: 0.0997 | Train Accuracy: 97.0399\n",
      "Epoch: 4 | Train loss: 0.0865 | Train Accuracy: 97.4913\n",
      "Epoch: 5 | Train loss: 0.0740 | Train Accuracy: 97.8611\n"
     ]
    }
   ],
   "source": [
    "# train\n",
    "\n",
    "for ITER in range(5):\n",
    "    train_acc = 0.0\n",
    "    train_running_loss = 0.0\n",
    "\n",
    "    model.train()\n",
    "    for i, (X, y) in enumerate(train_dataloader):\n",
    "        output = model(X)\n",
    "        l = loss(output, y)\n",
    "\n",
    "        # update the parameters\n",
    "        l.backward()\n",
    "        trainer.step()\n",
    "        trainer.zero_grad()\n",
    "\n",
    "        # gather metrics\n",
    "        train_acc += get_accuracy(output, y, BATCH_SIZE)\n",
    "        train_running_loss += l.detach().item()\n",
    "\n",
    "    print('Epoch: %d | Train loss: %.4f | Train Accuracy: %.4f' \\\n",
    "          %(ITER+1, train_running_loss / (i+1),train_acc/(i+1)))"
   ]
  },
  {
   "cell_type": "markdown",
   "metadata": {
    "id": "22DFwdqAmJ4G"
   },
   "source": [
    "### Other things to try\n",
    "\n",
    "- Evaluate on test set\n",
    "- Plot loss curve\n",
    "- Add more layers to the model"
   ]
  },
  {
   "cell_type": "code",
   "execution_count": null,
   "metadata": {
    "id": "jDordzFcPNmU"
   },
   "outputs": [],
   "source": []
  }
 ],
 "metadata": {
  "colab": {
   "name": "First Neural Network.ipynb",
   "provenance": []
  },
  "kernelspec": {
   "display_name": "Python 3 (ipykernel)",
   "language": "python",
   "name": "python3"
  },
  "language_info": {
   "codemirror_mode": {
    "name": "ipython",
    "version": 3
   },
   "file_extension": ".py",
   "mimetype": "text/x-python",
   "name": "python",
   "nbconvert_exporter": "python",
   "pygments_lexer": "ipython3",
   "version": "3.9.12"
  }
 },
 "nbformat": 4,
 "nbformat_minor": 1
}
